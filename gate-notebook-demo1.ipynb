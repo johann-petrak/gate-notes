{
 "cells": [
  {
   "cell_type": "markdown",
   "metadata": {},
   "source": [
    "# Running GATE in a Jupyter Notebook\n",
    "\n",
    "This little jupyter notebook illustrates how to run GATE and plugins from within a Jupyter notebook.\n",
    "\n",
    "## Prerequesites\n",
    "\n",
    "* Python: probably easiest to use the Python 3 version of Anaconda (https://www.anaconda.com/distribution/)\n",
    "* Jupyter notebook or Jupyter lab. Anaconda already has Jupyter notebook pre-installed.\n",
    "* Java: Java 9 or later is required\n",
    "* The IJava jupyter kernel (https://github.com/SpencerPark/IJava)\n",
    "  * Download the latest release\n",
    "  * Extract the archive and change into the directory that has been created\n",
    "  * If you use your own Anaconda python installation, install with `python install.py --user`\n",
    "  \n",
    "## Creating a notebook\n",
    "\n",
    "* Start jupyter notebook using `jupyter-notebook` or jupyter lab using `jupyter-lab`\n",
    "* Create a new `Java` notebook\n",
    "* Inside the notebook, use a line `%mave uk.ac.gate:gate-core:8.5.1` to fetch the GATE libraries to your computer (replace 8.5.1 with any other version after 8.5 you prefer)\n",
    "* GATE plugins and other java libraries which are needed can be fetched in a similar fashion.\n",
    "* Local jars can be added with the `%jars` command\n",
    "* See https://github.com/SpencerPark/IJava/blob/master/docs/magics.md for more percent-commands (magics)\n",
    "* Code away! See below for a small example."
   ]
  },
  {
   "cell_type": "code",
   "execution_count": 4,
   "metadata": {},
   "outputs": [],
   "source": [
    "%maven uk.ac.gate:gate-core:8.5.1\n",
    "%maven uk.ac.gate.plugins:annie:8.5"
   ]
  },
  {
   "cell_type": "code",
   "execution_count": 7,
   "metadata": {},
   "outputs": [],
   "source": [
    "import gate.*;\n",
    "\n",
    "Gate.init();\n",
    "\n"
   ]
  },
  {
   "cell_type": "code",
   "execution_count": 24,
   "metadata": {},
   "outputs": [
    {
     "name": "stdout",
     "output_type": "stream",
     "text": [
      "DocumentImpl: \n",
      "  content:This is a document\n",
      "  defaultAnnots:[AnnotationImpl: id=0; type=Token; features={string=This, length=4, orth=upperInitial, kind=word, category=DT}; start=NodeImpl: id=0; offset=0; end=NodeImpl: id=1; offset=4\n",
      ", AnnotationImpl: id=1; type=SpaceToken; features={string= , length=1, kind=space}; start=NodeImpl: id=1; offset=4; end=NodeImpl: id=2; offset=5\n",
      ", AnnotationImpl: id=2; type=Token; features={string=is, length=2, orth=lowercase, kind=word, category=VBZ}; start=NodeImpl: id=2; offset=5; end=NodeImpl: id=3; offset=7\n",
      ", AnnotationImpl: id=3; type=SpaceToken; features={string= , length=1, kind=space}; start=NodeImpl: id=3; offset=7; end=NodeImpl: id=4; offset=8\n",
      ", AnnotationImpl: id=4; type=Token; features={string=a, length=1, orth=lowercase, kind=word, category=DT}; start=NodeImpl: id=4; offset=8; end=NodeImpl: id=5; offset=9\n",
      ", AnnotationImpl: id=5; type=SpaceToken; features={string= , length=1, kind=space}; start=NodeImpl: id=5; offset=9; end=NodeImpl: id=6; offset=10\n",
      ", AnnotationImpl: id=6; type=Token; features={string=document, length=8, orth=lowercase, kind=word, category=NN}; start=NodeImpl: id=6; offset=10; end=NodeImpl: id=7; offset=18\n",
      ", AnnotationImpl: id=7; type=Lookup; features={majorType=time_modifier}; start=NodeImpl: id=0; offset=0; end=NodeImpl: id=1; offset=4\n",
      ", AnnotationImpl: id=8; type=Lookup; features={majorType=country_code}; start=NodeImpl: id=2; offset=5; end=NodeImpl: id=3; offset=7\n",
      ", AnnotationImpl: id=9; type=Sentence; features={}; start=NodeImpl: id=0; offset=0; end=NodeImpl: id=7; offset=18\n",
      "]\n",
      "  encoding:null\n",
      "  features:{gate.SourceURL=created from String}\n",
      "  markupAware:true\n",
      "  namedAnnotSets:{}\n",
      "  nextAnnotationId:12\n",
      "  nextNodeId:8\n",
      "  sourceUrl:null\n",
      "  sourceUrlStartOffset:null\n",
      "  sourceUrlEndOffset:null\n",
      "\n"
     ]
    }
   ],
   "source": [
    "// Create a small document\n",
    "Document doc = Factory.newDocument(\"This is a document\");\n",
    "// Load ANNIE and run it on the document \n",
    "import java.net.URI;\n",
    "import gate.creole.ResourceReference;\n",
    "ResourceReference pipelineRR = new ResourceReference(new URI(\"creole://uk.ac.gate.plugins;annie;8.5/resources/ANNIE_with_defaults.gapp\"));\n",
    "\n",
    "import gate.util.persistence.PersistenceManager;\n",
    "import gate.creole.ConditionalSerialAnalyserController;\n",
    "import gate.creole.Plugin;\n",
    "\n",
    "Gate.getCreoleRegister().registerPlugin(new Plugin.Maven(\"uk.ac.gate.plugins\",\"annie\",\"8.5\"));\n",
    "ConditionalSerialAnalyserController pipeline = (ConditionalSerialAnalyserController)PersistenceManager.loadObjectFromUri(pipelineRR.toURI());\n",
    "\n",
    "import gate.Corpus;\n",
    "Corpus corp = Factory.newCorpus(\"corpus\");\n",
    "corp.add(doc);\n",
    "\n",
    "pipeline.setCorpus(corp);\n",
    "pipeline.execute();\n",
    "\n",
    "System.out.print(doc);\n"
   ]
  },
  {
   "cell_type": "code",
   "execution_count": null,
   "metadata": {},
   "outputs": [],
   "source": []
  }
 ],
 "metadata": {
  "kernelspec": {
   "display_name": "Java",
   "language": "java",
   "name": "java"
  },
  "language_info": {
   "codemirror_mode": "java",
   "file_extension": ".java",
   "mimetype": "text/x-java-source",
   "name": "Java",
   "pygments_lexer": "java",
   "version": "11.0.2+9-LTS"
  }
 },
 "nbformat": 4,
 "nbformat_minor": 2
}
